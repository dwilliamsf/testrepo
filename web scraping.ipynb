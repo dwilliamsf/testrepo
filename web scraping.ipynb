{
    "cells": [
        {
            "cell_type": "markdown",
            "metadata": {},
            "source": "<p style=\"text-align:center\">\n    <a href=\"https://skills.network/?utm_medium=Exinfluencer&utm_source=Exinfluencer&utm_content=000026UJ&utm_term=10006555&utm_id=NA-SkillsNetwork-Channel-SkillsNetworkCoursesIBMDS0321ENSkillsNetwork26802033-2022-01-01\" target=\"_blank\">\n    <img src=\"https://cf-courses-data.s3.us.cloud-object-storage.appdomain.cloud/assets/logos/SN_web_lightmode.png\" width=\"200\" alt=\"Skills Network Logo\"  />\n    </a>\n</p>\n"
        },
        {
            "cell_type": "markdown",
            "metadata": {},
            "source": "# **Space X  Falcon 9 First Stage Landing Prediction**\n"
        },
        {
            "cell_type": "markdown",
            "metadata": {},
            "source": "## Web scraping Falcon 9 and Falcon Heavy Launches Records from Wikipedia\n"
        },
        {
            "cell_type": "markdown",
            "metadata": {},
            "source": "Estimated time needed: **40** minutes\n"
        },
        {
            "cell_type": "markdown",
            "metadata": {},
            "source": "In this lab, you will be performing web scraping to collect Falcon 9 historical launch records from a Wikipedia page titled `List of Falcon 9 and Falcon Heavy launches`\n\n[https://en.wikipedia.org/wiki/List_of_Falcon\\_9\\_and_Falcon_Heavy_launches](https://en.wikipedia.org/wiki/List_of_Falcon\\_9\\_and_Falcon_Heavy_launches?utm_medium=Exinfluencer&utm_source=Exinfluencer&utm_content=000026UJ&utm_term=10006555&utm_id=NA-SkillsNetwork-Channel-SkillsNetworkCoursesIBMDS0321ENSkillsNetwork26802033-2022-01-01)\n"
        },
        {
            "cell_type": "markdown",
            "metadata": {},
            "source": "![](https://cf-courses-data.s3.us.cloud-object-storage.appdomain.cloud/IBM-DS0321EN-SkillsNetwork/labs/module\\_1\\_L2/images/Falcon9\\_rocket_family.svg)\n"
        },
        {
            "cell_type": "markdown",
            "metadata": {},
            "source": "Falcon 9 first stage will land successfully\n"
        },
        {
            "cell_type": "markdown",
            "metadata": {},
            "source": "![](https://cf-courses-data.s3.us.cloud-object-storage.appdomain.cloud/IBMDeveloperSkillsNetwork-DS0701EN-SkillsNetwork/api/Images/landing\\_1.gif)\n"
        },
        {
            "cell_type": "markdown",
            "metadata": {},
            "source": "Several examples of an unsuccessful landing are shown here:\n"
        },
        {
            "cell_type": "markdown",
            "metadata": {},
            "source": "![](https://cf-courses-data.s3.us.cloud-object-storage.appdomain.cloud/IBMDeveloperSkillsNetwork-DS0701EN-SkillsNetwork/api/Images/crash.gif)\n"
        },
        {
            "cell_type": "markdown",
            "metadata": {},
            "source": "More specifically, the launch records are stored in a HTML table shown below:\n"
        },
        {
            "cell_type": "markdown",
            "metadata": {},
            "source": "![](https://cf-courses-data.s3.us.cloud-object-storage.appdomain.cloud/IBM-DS0321EN-SkillsNetwork/labs/module\\_1\\_L2/images/falcon9-launches-wiki.png)\n"
        },
        {
            "cell_type": "markdown",
            "metadata": {},
            "source": "## Objectives\n\nWeb scrap Falcon 9 launch records with `BeautifulSoup`:\n\n*   Extract a Falcon 9 launch records HTML table from Wikipedia\n*   Parse the table and convert it into a Pandas data frame\n"
        },
        {
            "cell_type": "markdown",
            "metadata": {},
            "source": "First let's import required packages for this lab\n"
        },
        {
            "cell_type": "code",
            "execution_count": 1,
            "metadata": {},
            "outputs": [
                {
                    "name": "stdout",
                    "output_type": "stream",
                    "text": "Requirement already satisfied: beautifulsoup4 in /opt/conda/envs/Python-3.10/lib/python3.10/site-packages (4.11.1)\nRequirement already satisfied: soupsieve>1.2 in /opt/conda/envs/Python-3.10/lib/python3.10/site-packages (from beautifulsoup4) (2.3.1)\nRequirement already satisfied: requests in /opt/conda/envs/Python-3.10/lib/python3.10/site-packages (2.28.1)\nRequirement already satisfied: certifi>=2017.4.17 in /opt/conda/envs/Python-3.10/lib/python3.10/site-packages (from requests) (2022.9.24)\nRequirement already satisfied: urllib3<1.27,>=1.21.1 in /opt/conda/envs/Python-3.10/lib/python3.10/site-packages (from requests) (1.26.11)\nRequirement already satisfied: charset-normalizer<3,>=2 in /opt/conda/envs/Python-3.10/lib/python3.10/site-packages (from requests) (2.0.4)\nRequirement already satisfied: idna<4,>=2.5 in /opt/conda/envs/Python-3.10/lib/python3.10/site-packages (from requests) (3.3)\n"
                }
            ],
            "source": "!pip3 install beautifulsoup4\n!pip3 install requests"
        },
        {
            "cell_type": "code",
            "execution_count": 2,
            "metadata": {},
            "outputs": [],
            "source": "import sys\n\nimport requests\nfrom bs4 import BeautifulSoup\nimport re\nimport unicodedata\nimport pandas as pd"
        },
        {
            "cell_type": "markdown",
            "metadata": {},
            "source": "and we will provide some helper functions for you to process web scraped HTML table\n"
        },
        {
            "cell_type": "code",
            "execution_count": 3,
            "metadata": {},
            "outputs": [],
            "source": "def date_time(table_cells):\n    \"\"\"\n    This function returns the data and time from the HTML  table cell\n    Input: the  element of a table data cell extracts extra row\n    \"\"\"\n    return [data_time.strip() for data_time in list(table_cells.strings)][0:2]\n\ndef booster_version(table_cells):\n    \"\"\"\n    This function returns the booster version from the HTML  table cell \n    Input: the  element of a table data cell extracts extra row\n    \"\"\"\n    out=''.join([booster_version for i,booster_version in enumerate( table_cells.strings) if i%2==0][0:-1])\n    return out\n\ndef landing_status(table_cells):\n    \"\"\"\n    This function returns the landing status from the HTML table cell \n    Input: the  element of a table data cell extracts extra row\n    \"\"\"\n    out=[i for i in table_cells.strings][0]\n    return out\n\n\ndef get_mass(table_cells):\n    mass=unicodedata.normalize(\"NFKD\", table_cells.text).strip()\n    if mass:\n        mass.find(\"kg\")\n        new_mass=mass[0:mass.find(\"kg\")+2]\n    else:\n        new_mass=0\n    return new_mass\n\n\ndef extract_column_from_header(row):\n    \"\"\"\n    This function returns the landing status from the HTML table cell \n    Input: the  element of a table data cell extracts extra row\n    \"\"\"\n    if (row.br):\n        row.br.extract()\n    if row.a:\n        row.a.extract()\n    if row.sup:\n        row.sup.extract()\n        \n    colunm_name = ' '.join(row.contents)\n    \n    # Filter the digit and empty names\n    if not(colunm_name.strip().isdigit()):\n        colunm_name = colunm_name.strip()\n        return colunm_name    \n"
        },
        {
            "cell_type": "markdown",
            "metadata": {},
            "source": "To keep the lab tasks consistent, you will be asked to scrape the data from a snapshot of the  `List of Falcon 9 and Falcon Heavy launches` Wikipage updated on\n`9th June 2021`\n"
        },
        {
            "cell_type": "code",
            "execution_count": 4,
            "metadata": {},
            "outputs": [],
            "source": "static_url = \"https://en.wikipedia.org/w/index.php?title=List_of_Falcon_9_and_Falcon_Heavy_launches&oldid=1027686922\""
        },
        {
            "cell_type": "markdown",
            "metadata": {},
            "source": "Next, request the HTML page from the above URL and get a `response` object\n"
        },
        {
            "cell_type": "markdown",
            "metadata": {},
            "source": "### TASK 1: Request the Falcon9 Launch Wiki page from its URL\n"
        },
        {
            "cell_type": "markdown",
            "metadata": {},
            "source": "First, let's perform an HTTP GET method to request the Falcon9 Launch HTML page, as an HTTP response.\n"
        },
        {
            "cell_type": "code",
            "execution_count": 10,
            "metadata": {},
            "outputs": [
                {
                    "name": "stdout",
                    "output_type": "stream",
                    "text": "<Response [200]>\n"
                }
            ],
            "source": "# use requests.get() method with the provided static_url\n# assign the response to a object\nresult=requests.get(static_url)\nprint(result)"
        },
        {
            "cell_type": "markdown",
            "metadata": {},
            "source": "Create a `BeautifulSoup` object from the HTML `response`\n"
        },
        {
            "cell_type": "code",
            "execution_count": 11,
            "metadata": {},
            "outputs": [],
            "source": "# Use BeautifulSoup() to create a BeautifulSoup object from a response text content\nsoup=BeautifulSoup(result.content)"
        },
        {
            "cell_type": "markdown",
            "metadata": {},
            "source": "Print the page title to verify if the `BeautifulSoup` object was created properly\n"
        },
        {
            "cell_type": "code",
            "execution_count": 12,
            "metadata": {},
            "outputs": [
                {
                    "name": "stdout",
                    "output_type": "stream",
                    "text": "<title>List of Falcon 9 and Falcon Heavy launches - Wikipedia</title>\n"
                }
            ],
            "source": "# Use soup.title attribute\nprint(soup.title)"
        },
        {
            "cell_type": "markdown",
            "metadata": {},
            "source": "### TASK 2: Extract all column/variable names from the HTML table header\n"
        },
        {
            "cell_type": "markdown",
            "metadata": {},
            "source": "Next, we want to collect all relevant column names from the HTML table header\n"
        },
        {
            "cell_type": "markdown",
            "metadata": {},
            "source": "Let's try to find all tables on the wiki page first. If you need to refresh your memory about `BeautifulSoup`, please check the external reference link towards the end of this lab\n"
        },
        {
            "cell_type": "code",
            "execution_count": 13,
            "metadata": {},
            "outputs": [],
            "source": "# Use the find_all function in the BeautifulSoup object, with element type `table`\n# Assign the result to a list called `html_tables`\nhtml_tables=soup.find_all(\"table\")"
        },
        {
            "cell_type": "markdown",
            "metadata": {},
            "source": "Starting from the third table is our target table contains the actual launch records.\n"
        },
        {
            "cell_type": "code",
            "execution_count": 15,
            "metadata": {},
            "outputs": [
                {
                    "name": "stdout",
                    "output_type": "stream",
                    "text": "<table class=\"wikitable plainrowheaders collapsible\" style=\"width: 100%;\">\n<tbody><tr>\n<th scope=\"col\">Flight No.\n</th>\n<th scope=\"col\">Date and<br/>time (<a href=\"/wiki/Coordinated_Universal_Time\" title=\"Coordinated Universal Time\">UTC</a>)\n</th>\n<th scope=\"col\"><a href=\"/wiki/List_of_Falcon_9_first-stage_boosters\" title=\"List of Falcon 9 first-stage boosters\">Version,<br/>Booster</a> <sup class=\"reference\" id=\"cite_ref-booster_11-0\"><a href=\"#cite_note-booster-11\">[b]</a></sup>\n</th>\n<th scope=\"col\">Launch site\n</th>\n<th scope=\"col\">Payload<sup class=\"reference\" id=\"cite_ref-Dragon_12-0\"><a href=\"#cite_note-Dragon-12\">[c]</a></sup>\n</th>\n<th scope=\"col\">Payload mass\n</th>\n<th scope=\"col\">Orbit\n</th>\n<th scope=\"col\">Customer\n</th>\n<th scope=\"col\">Launch<br/>outcome\n</th>\n<th scope=\"col\"><a href=\"/wiki/Falcon_9_first-stage_landing_tests\" title=\"Falcon 9 first-stage landing tests\">Booster<br/>landing</a>\n</th></tr>\n<tr>\n<th rowspan=\"2\" scope=\"row\" style=\"text-align:center;\">1\n</th>\n<td>4 June 2010,<br/>18:45\n</td>\n<td><a href=\"/wiki/Falcon_9_v1.0\" title=\"Falcon 9 v1.0\">F9 v1.0</a><sup class=\"reference\" id=\"cite_ref-MuskMay2012_13-0\"><a href=\"#cite_note-MuskMay2012-13\">[7]</a></sup><br/>B0003.1<sup class=\"reference\" id=\"cite_ref-block_numbers_14-0\"><a href=\"#cite_note-block_numbers-14\">[8]</a></sup>\n</td>\n<td><a href=\"/wiki/Cape_Canaveral_Space_Force_Station\" title=\"Cape Canaveral Space Force Station\">CCAFS</a>,<br/><a href=\"/wiki/Cape_Canaveral_Space_Launch_Complex_40\" title=\"Cape Canaveral Space Launch Complex 40\">SLC-40</a>\n</td>\n<td><a href=\"/wiki/Dragon_Spacecraft_Qualification_Unit\" title=\"Dragon Spacecraft Qualification Unit\">Dragon Spacecraft Qualification Unit</a>\n</td>\n<td>\n</td>\n<td><a href=\"/wiki/Low_Earth_orbit\" title=\"Low Earth orbit\">LEO</a>\n</td>\n<td><a href=\"/wiki/SpaceX\" title=\"SpaceX\">SpaceX</a>\n</td>\n<td class=\"table-success\" style=\"background: #9EFF9E; vertical-align: middle; text-align: center;\">Success\n</td>\n<td class=\"table-failure\" style=\"background: #FFC7C7; vertical-align: middle; text-align: center;\">Failure<sup class=\"reference\" id=\"cite_ref-ns20110930_15-0\"><a href=\"#cite_note-ns20110930-15\">[9]</a></sup><sup class=\"reference\" id=\"cite_ref-16\"><a href=\"#cite_note-16\">[10]</a></sup><br/><small>(parachute)</small>\n</td></tr>\n<tr>\n<td colspan=\"9\">First flight of Falcon 9 v1.0.<sup class=\"reference\" id=\"cite_ref-sfn20100604_17-0\"><a href=\"#cite_note-sfn20100604-17\">[11]</a></sup> Used a boilerplate version of Dragon capsule which was not designed to separate from the second stage.<small>(<a href=\"#First_flight_of_Falcon_9\">more details below</a>)</small> Attempted to recover the first stage by parachuting it into the ocean, but it burned up on reentry, before the parachutes even deployed.<sup class=\"reference\" id=\"cite_ref-parachute_18-0\"><a href=\"#cite_note-parachute-18\">[12]</a></sup>\n</td></tr>\n<tr>\n<th rowspan=\"2\" scope=\"row\" style=\"text-align:center;\">2\n</th>\n<td>8 December 2010,<br/>15:43<sup class=\"reference\" id=\"cite_ref-spaceflightnow_Clark_Launch_Report_19-0\"><a href=\"#cite_note-spaceflightnow_Clark_Launch_Report-19\">[13]</a></sup>\n</td>\n<td><a href=\"/wiki/Falcon_9_v1.0\" title=\"Falcon 9 v1.0\">F9 v1.0</a><sup class=\"reference\" id=\"cite_ref-MuskMay2012_13-1\"><a href=\"#cite_note-MuskMay2012-13\">[7]</a></sup><br/>B0004.1<sup class=\"reference\" id=\"cite_ref-block_numbers_14-1\"><a href=\"#cite_note-block_numbers-14\">[8]</a></sup>\n</td>\n<td><a href=\"/wiki/Cape_Canaveral_Space_Force_Station\" title=\"Cape Canaveral Space Force Station\">CCAFS</a>,<br/><a href=\"/wiki/Cape_Canaveral_Space_Launch_Complex_40\" title=\"Cape Canaveral Space Launch Complex 40\">SLC-40</a>\n</td>\n<td><a href=\"/wiki/SpaceX_Dragon\" title=\"SpaceX Dragon\">Dragon</a> <a class=\"mw-redirect\" href=\"/wiki/COTS_Demo_Flight_1\" title=\"COTS Demo Flight 1\">demo flight C1</a><br/>(Dragon C101)\n</td>\n<td>\n</td>\n<td><a href=\"/wiki/Low_Earth_orbit\" title=\"Low Earth orbit\">LEO</a> (<a href=\"/wiki/International_Space_Station\" title=\"International Space Station\">ISS</a>)\n</td>\n<td><style data-mw-deduplicate=\"TemplateStyles:r1126788409\">.mw-parser-output .plainlist ol,.mw-parser-output .plainlist ul{line-height:inherit;list-style:none;margin:0;padding:0}.mw-parser-output .plainlist ol li,.mw-parser-output .plainlist ul li{margin-bottom:0}</style><div class=\"plainlist\">\n<ul><li><a href=\"/wiki/NASA\" title=\"NASA\">NASA</a> (<a href=\"/wiki/Commercial_Orbital_Transportation_Services\" title=\"Commercial Orbital Transportation Services\">COTS</a>)</li>\n<li><a href=\"/wiki/National_Reconnaissance_Office\" title=\"National Reconnaissance Office\">NRO</a></li></ul>\n</div>\n</td>\n<td class=\"table-success\" style=\"background: #9EFF9E; vertical-align: middle; text-align: center;\">Success<sup class=\"reference\" id=\"cite_ref-ns20110930_15-1\"><a href=\"#cite_note-ns20110930-15\">[9]</a></sup>\n</td>\n<td class=\"table-failure\" style=\"background: #FFC7C7; vertical-align: middle; text-align: center;\">Failure<sup class=\"reference\" id=\"cite_ref-ns20110930_15-2\"><a href=\"#cite_note-ns20110930-15\">[9]</a></sup><sup class=\"reference\" id=\"cite_ref-20\"><a href=\"#cite_note-20\">[14]</a></sup><br/><small>(parachute)</small>\n</td></tr>\n<tr>\n<td colspan=\"9\">Maiden flight of <a class=\"mw-redirect\" href=\"/wiki/Dragon_capsule\" title=\"Dragon capsule\">Dragon capsule</a>, consisting of over 3 hours of testing thruster maneuvering and reentry.<sup class=\"reference\" id=\"cite_ref-spaceflightnow_Clark_unleashing_Dragon_21-0\"><a href=\"#cite_note-spaceflightnow_Clark_unleashing_Dragon-21\">[15]</a></sup> Attempted to recover the first stage by parachuting it into the ocean, but it disintegrated upon reentry, before the parachutes were deployed.<sup class=\"reference\" id=\"cite_ref-parachute_18-1\"><a href=\"#cite_note-parachute-18\">[12]</a></sup> <small>(<a href=\"#COTS_demo_missions\">more details below</a>)</small> It also included two <a href=\"/wiki/CubeSat\" title=\"CubeSat\">CubeSats</a>,<sup class=\"reference\" id=\"cite_ref-NRO_Taps_Boeing_for_Next_Batch_of_CubeSats_22-0\"><a href=\"#cite_note-NRO_Taps_Boeing_for_Next_Batch_of_CubeSats-22\">[16]</a></sup> and a wheel of <a href=\"/wiki/Brou%C3%A8re\" title=\"Brou\u00e8re\">Brou\u00e8re</a> cheese.\n</td></tr>\n<tr>\n<th rowspan=\"2\" scope=\"row\" style=\"text-align:center;\">3\n</th>\n<td>22 May 2012,<br/>07:44<sup class=\"reference\" id=\"cite_ref-BBC_new_era_23-0\"><a href=\"#cite_note-BBC_new_era-23\">[17]</a></sup>\n</td>\n<td><a href=\"/wiki/Falcon_9_v1.0\" title=\"Falcon 9 v1.0\">F9 v1.0</a><sup class=\"reference\" id=\"cite_ref-MuskMay2012_13-2\"><a href=\"#cite_note-MuskMay2012-13\">[7]</a></sup><br/>B0005.1<sup class=\"reference\" id=\"cite_ref-block_numbers_14-2\"><a href=\"#cite_note-block_numbers-14\">[8]</a></sup>\n</td>\n<td><a href=\"/wiki/Cape_Canaveral_Space_Force_Station\" title=\"Cape Canaveral Space Force Station\">CCAFS</a>,<br/><a href=\"/wiki/Cape_Canaveral_Space_Launch_Complex_40\" title=\"Cape Canaveral Space Launch Complex 40\">SLC-40</a>\n</td>\n<td><a href=\"/wiki/SpaceX_Dragon\" title=\"SpaceX Dragon\">Dragon</a> <a class=\"mw-redirect\" href=\"/wiki/Dragon_C2%2B\" title=\"Dragon C2+\">demo flight C2+</a><sup class=\"reference\" id=\"cite_ref-C2_24-0\"><a href=\"#cite_note-C2-24\">[18]</a></sup><br/>(Dragon C102)\n</td>\n<td>525\u00a0kg (1,157\u00a0lb)<sup class=\"reference\" id=\"cite_ref-25\"><a href=\"#cite_note-25\">[19]</a></sup>\n</td>\n<td><a href=\"/wiki/Low_Earth_orbit\" title=\"Low Earth orbit\">LEO</a> (<a href=\"/wiki/International_Space_Station\" title=\"International Space Station\">ISS</a>)\n</td>\n<td><a href=\"/wiki/NASA\" title=\"NASA\">NASA</a> (<a href=\"/wiki/Commercial_Orbital_Transportation_Services\" title=\"Commercial Orbital Transportation Services\">COTS</a>)\n</td>\n<td class=\"table-success\" style=\"background: #9EFF9E; vertical-align: middle; text-align: center;\">Success<sup class=\"reference\" id=\"cite_ref-26\"><a href=\"#cite_note-26\">[20]</a></sup>\n</td>\n<td class=\"table-noAttempt\" style=\"background: #EEE; vertical-align: middle; white-space: nowrap; text-align: center;\">No attempt\n</td></tr>\n<tr>\n<td colspan=\"9\">Dragon spacecraft demonstrated a series of tests before it was allowed to approach the <a href=\"/wiki/International_Space_Station\" title=\"International Space Station\">International Space Station</a>. Two days later, it became the first commercial spacecraft to board the ISS.<sup class=\"reference\" id=\"cite_ref-BBC_new_era_23-1\"><a href=\"#cite_note-BBC_new_era-23\">[17]</a></sup> <small>(<a href=\"#COTS_demo_missions\">more details below</a>)</small>\n</td></tr>\n<tr>\n<th rowspan=\"3\" scope=\"row\" style=\"text-align:center;\">4\n</th>\n<td rowspan=\"2\">8 October 2012,<br/>00:35<sup class=\"reference\" id=\"cite_ref-SFN_LLog_27-0\"><a href=\"#cite_note-SFN_LLog-27\">[21]</a></sup>\n</td>\n<td rowspan=\"2\"><a href=\"/wiki/Falcon_9_v1.0\" title=\"Falcon 9 v1.0\">F9 v1.0</a><sup class=\"reference\" id=\"cite_ref-MuskMay2012_13-3\"><a href=\"#cite_note-MuskMay2012-13\">[7]</a></sup><br/>B0006.1<sup class=\"reference\" id=\"cite_ref-block_numbers_14-3\"><a href=\"#cite_note-block_numbers-14\">[8]</a></sup>\n</td>\n<td rowspan=\"2\"><a href=\"/wiki/Cape_Canaveral_Space_Force_Station\" title=\"Cape Canaveral Space Force Station\">CCAFS</a>,<br/><a href=\"/wiki/Cape_Canaveral_Space_Launch_Complex_40\" title=\"Cape Canaveral Space Launch Complex 40\">SLC-40</a>\n</td>\n<td><a href=\"/wiki/SpaceX_CRS-1\" title=\"SpaceX CRS-1\">SpaceX CRS-1</a><sup class=\"reference\" id=\"cite_ref-sxManifest20120925_28-0\"><a href=\"#cite_note-sxManifest20120925-28\">[22]</a></sup><br/>(Dragon C103)\n</td>\n<td>4,700\u00a0kg (10,400\u00a0lb)\n</td>\n<td><a href=\"/wiki/Low_Earth_orbit\" title=\"Low Earth orbit\">LEO</a> (<a href=\"/wiki/International_Space_Station\" title=\"International Space Station\">ISS</a>)\n</td>\n<td><a href=\"/wiki/NASA\" title=\"NASA\">NASA</a> (<a href=\"/wiki/Commercial_Resupply_Services\" title=\"Commercial Resupply Services\">CRS</a>)\n</td>\n<td class=\"table-success\" style=\"background: #9EFF9E; vertical-align: middle; text-align: center;\">Success\n</td>\n<td rowspan=\"2\" style=\"background:#ececec; text-align:center;\"><span class=\"nowrap\">No attempt</span>\n</td></tr>\n<tr>\n<td><a href=\"/wiki/Orbcomm_(satellite)\" title=\"Orbcomm (satellite)\">Orbcomm-OG2</a><sup class=\"reference\" id=\"cite_ref-Orbcomm_29-0\"><a href=\"#cite_note-Orbcomm-29\">[23]</a></sup>\n</td>\n<td>172\u00a0kg (379\u00a0lb)<sup class=\"reference\" id=\"cite_ref-gunter-og2_30-0\"><a href=\"#cite_note-gunter-og2-30\">[24]</a></sup>\n</td>\n<td><a href=\"/wiki/Low_Earth_orbit\" title=\"Low Earth orbit\">LEO</a>\n</td>\n<td><a href=\"/wiki/Orbcomm\" title=\"Orbcomm\">Orbcomm</a>\n</td>\n<td class=\"table-partial\" style=\"background: #FE9; vertical-align: middle; text-align: center;\">Partial failure<sup class=\"reference\" id=\"cite_ref-nyt-20121030_31-0\"><a href=\"#cite_note-nyt-20121030-31\">[25]</a></sup>\n</td></tr>\n<tr>\n<td colspan=\"9\">CRS-1 was successful, but the <a href=\"/wiki/Secondary_payload\" title=\"Secondary payload\">secondary payload</a> was inserted into an abnormally low orbit and subsequently lost. This was due to one of the nine <a href=\"/wiki/SpaceX_Merlin\" title=\"SpaceX Merlin\">Merlin engines</a> shutting down during the launch, and NASA declining a second reignition, as per <a href=\"/wiki/International_Space_Station\" title=\"International Space Station\">ISS</a> visiting vehicle safety rules, the primary payload owner is contractually allowed to decline a second reignition. NASA stated that this was because SpaceX could not guarantee a high enough likelihood of the second stage completing the second burn successfully which was required to avoid any risk of secondary payload's collision with the ISS.<sup class=\"reference\" id=\"cite_ref-OrbcommTotalLoss_32-0\"><a href=\"#cite_note-OrbcommTotalLoss-32\">[26]</a></sup><sup class=\"reference\" id=\"cite_ref-sn20121011_33-0\"><a href=\"#cite_note-sn20121011-33\">[27]</a></sup><sup class=\"reference\" id=\"cite_ref-34\"><a href=\"#cite_note-34\">[28]</a></sup>\n</td></tr>\n<tr>\n<th rowspan=\"2\" scope=\"row\" style=\"text-align:center;\">5\n</th>\n<td>1 March 2013,<br/>15:10\n</td>\n<td><a href=\"/wiki/Falcon_9_v1.0\" title=\"Falcon 9 v1.0\">F9 v1.0</a><sup class=\"reference\" id=\"cite_ref-MuskMay2012_13-4\"><a href=\"#cite_note-MuskMay2012-13\">[7]</a></sup><br/>B0007.1<sup class=\"reference\" id=\"cite_ref-block_numbers_14-4\"><a href=\"#cite_note-block_numbers-14\">[8]</a></sup>\n</td>\n<td><a href=\"/wiki/Cape_Canaveral_Space_Force_Station\" title=\"Cape Canaveral Space Force Station\">CCAFS</a>,<br/><a href=\"/wiki/Cape_Canaveral_Space_Launch_Complex_40\" title=\"Cape Canaveral Space Launch Complex 40\">SLC-40</a>\n</td>\n<td><a href=\"/wiki/SpaceX_CRS-2\" title=\"SpaceX CRS-2\">SpaceX CRS-2</a><sup class=\"reference\" id=\"cite_ref-sxManifest20120925_28-1\"><a href=\"#cite_note-sxManifest20120925-28\">[22]</a></sup><br/>(Dragon C104)\n</td>\n<td>4,877\u00a0kg (10,752\u00a0lb)\n</td>\n<td><a href=\"/wiki/Low_Earth_orbit\" title=\"Low Earth orbit\">LEO</a> (<a class=\"mw-redirect\" href=\"/wiki/ISS\" title=\"ISS\">ISS</a>)\n</td>\n<td><a href=\"/wiki/NASA\" title=\"NASA\">NASA</a> (<a href=\"/wiki/Commercial_Resupply_Services\" title=\"Commercial Resupply Services\">CRS</a>)\n</td>\n<td class=\"table-success\" style=\"background: #9EFF9E; vertical-align: middle; text-align: center;\">Success\n</td>\n<td class=\"table-noAttempt\" style=\"background: #EEE; vertical-align: middle; white-space: nowrap; text-align: center;\">No attempt\n</td></tr>\n<tr>\n<td colspan=\"9\">Last launch of the original Falcon 9 v1.0 <a href=\"/wiki/Launch_vehicle\" title=\"Launch vehicle\">launch vehicle</a>, first use of the unpressurized trunk section of Dragon.<sup class=\"reference\" id=\"cite_ref-sxf9_20110321_35-0\"><a href=\"#cite_note-sxf9_20110321-35\">[29]</a></sup>\n</td></tr>\n<tr>\n<th rowspan=\"2\" scope=\"row\" style=\"text-align:center;\">6\n</th>\n<td>29 September 2013,<br/>16:00<sup class=\"reference\" id=\"cite_ref-pa20130930_36-0\"><a href=\"#cite_note-pa20130930-36\">[30]</a></sup>\n</td>\n<td><a href=\"/wiki/Falcon_9_v1.1\" title=\"Falcon 9 v1.1\">F9 v1.1</a><sup class=\"reference\" id=\"cite_ref-MuskMay2012_13-5\"><a href=\"#cite_note-MuskMay2012-13\">[7]</a></sup><br/>B1003<sup class=\"reference\" id=\"cite_ref-block_numbers_14-5\"><a href=\"#cite_note-block_numbers-14\">[8]</a></sup>\n</td>\n<td><a class=\"mw-redirect\" href=\"/wiki/Vandenberg_Air_Force_Base\" title=\"Vandenberg Air Force Base\">VAFB</a>,<br/><a href=\"/wiki/Vandenberg_Space_Launch_Complex_4\" title=\"Vandenberg Space Launch Complex 4\">SLC-4E</a>\n</td>\n<td><a href=\"/wiki/CASSIOPE\" title=\"CASSIOPE\">CASSIOPE</a><sup class=\"reference\" id=\"cite_ref-sxManifest20120925_28-2\"><a href=\"#cite_note-sxManifest20120925-28\">[22]</a></sup><sup class=\"reference\" id=\"cite_ref-CASSIOPE_MDA_37-0\"><a href=\"#cite_note-CASSIOPE_MDA-37\">[31]</a></sup>\n</td>\n<td>500\u00a0kg (1,100\u00a0lb)\n</td>\n<td><a href=\"/wiki/Polar_orbit\" title=\"Polar orbit\">Polar orbit</a> <a href=\"/wiki/Low_Earth_orbit\" title=\"Low Earth orbit\">LEO</a>\n</td>\n<td><a href=\"/wiki/Maxar_Technologies\" title=\"Maxar Technologies\">MDA</a>\n</td>\n<td class=\"table-success\" style=\"background: #9EFF9E; vertical-align: middle; text-align: center;\">Success<sup class=\"reference\" id=\"cite_ref-pa20130930_36-1\"><a href=\"#cite_note-pa20130930-36\">[30]</a></sup>\n</td>\n<td class=\"table-no2\" style=\"background: #FFE3E3; color: black; vertical-align: middle; text-align: center;\">Uncontrolled<br/><small>(ocean)</small><sup class=\"reference\" id=\"cite_ref-ocean_landing_38-0\"><a href=\"#cite_note-ocean_landing-38\">[d]</a></sup>\n</td></tr>\n<tr>\n<td colspan=\"9\">First commercial mission with a private customer, first launch from Vandenberg, and demonstration flight of Falcon 9 v1.1 with an improved 13-tonne to LEO capacity.<sup class=\"reference\" id=\"cite_ref-sxf9_20110321_35-1\"><a href=\"#cite_note-sxf9_20110321-35\">[29]</a></sup> After separation from the second stage carrying Canadian commercial and scientific satellites, the first stage booster performed a controlled reentry,<sup class=\"reference\" id=\"cite_ref-39\"><a href=\"#cite_note-39\">[32]</a></sup> and an <a href=\"/wiki/Falcon_9_first-stage_landing_tests\" title=\"Falcon 9 first-stage landing tests\">ocean touchdown test</a> for the first time. This provided good test data, even though the booster started rolling as it neared the ocean, leading to the shutdown of the central engine as the roll depleted it of fuel, resulting in a hard impact with the ocean.<sup class=\"reference\" id=\"cite_ref-pa20130930_36-2\"><a href=\"#cite_note-pa20130930-36\">[30]</a></sup> This was the first known attempt of a rocket engine being lit to perform a supersonic retro propulsion, and allowed SpaceX to enter a public-private partnership with <a href=\"/wiki/NASA\" title=\"NASA\">NASA</a> and its Mars entry, descent, and landing technologies research projects.<sup class=\"reference\" id=\"cite_ref-40\"><a href=\"#cite_note-40\">[33]</a></sup> <small>(<a href=\"#Maiden_flight_of_v1.1\">more details below</a>)</small>\n</td></tr>\n<tr>\n<th rowspan=\"2\" scope=\"row\" style=\"text-align:center;\">7\n</th>\n<td>3 December 2013,<br/>22:41<sup class=\"reference\" id=\"cite_ref-sfn_wwls20130624_41-0\"><a href=\"#cite_note-sfn_wwls20130624-41\">[34]</a></sup>\n</td>\n<td><a href=\"/wiki/Falcon_9_v1.1\" title=\"Falcon 9 v1.1\">F9 v1.1</a><br/>B1004\n</td>\n<td><a href=\"/wiki/Cape_Canaveral_Space_Force_Station\" title=\"Cape Canaveral Space Force Station\">CCAFS</a>,<br/><a href=\"/wiki/Cape_Canaveral_Space_Launch_Complex_40\" title=\"Cape Canaveral Space Launch Complex 40\">SLC-40</a>\n</td>\n<td><a href=\"/wiki/SES-8\" title=\"SES-8\">SES-8</a><sup class=\"reference\" id=\"cite_ref-sxManifest20120925_28-3\"><a href=\"#cite_note-sxManifest20120925-28\">[22]</a></sup><sup class=\"reference\" id=\"cite_ref-spx-pr_42-0\"><a href=\"#cite_note-spx-pr-42\">[35]</a></sup><sup class=\"reference\" id=\"cite_ref-aw20110323_43-0\"><a href=\"#cite_note-aw20110323-43\">[36]</a></sup>\n</td>\n<td>3,170\u00a0kg (6,990\u00a0lb)\n</td>\n<td><a href=\"/wiki/Geostationary_transfer_orbit\" title=\"Geostationary transfer orbit\">GTO</a>\n</td>\n<td><a href=\"/wiki/SES_S.A.\" title=\"SES S.A.\">SES</a>\n</td>\n<td class=\"table-success\" style=\"background: #9EFF9E; vertical-align: middle; text-align: center;\">Success<sup class=\"reference\" id=\"cite_ref-SNMissionStatus7_44-0\"><a href=\"#cite_note-SNMissionStatus7-44\">[37]</a></sup>\n</td>\n<td class=\"table-noAttempt\" style=\"background: #EEE; vertical-align: middle; white-space: nowrap; text-align: center;\">No attempt<br/><sup class=\"reference\" id=\"cite_ref-sf10120131203_45-0\"><a href=\"#cite_note-sf10120131203-45\">[38]</a></sup>\n</td></tr>\n<tr>\n<td colspan=\"9\">First <a href=\"/wiki/Geostationary_transfer_orbit\" title=\"Geostationary transfer orbit\">Geostationary transfer orbit</a> (GTO) launch for Falcon 9,<sup class=\"reference\" id=\"cite_ref-spx-pr_42-1\"><a href=\"#cite_note-spx-pr-42\">[35]</a></sup> and first successful reignition of the second stage.<sup class=\"reference\" id=\"cite_ref-46\"><a href=\"#cite_note-46\">[39]</a></sup> SES-8 was inserted into a <a href=\"/wiki/Geostationary_transfer_orbit\" title=\"Geostationary transfer orbit\">Super-Synchronous Transfer Orbit</a> of 79,341\u00a0km (49,300\u00a0mi) in apogee with an <a href=\"/wiki/Orbital_inclination\" title=\"Orbital inclination\">inclination</a> of 20.55\u00b0 to the <a href=\"/wiki/Equator\" title=\"Equator\">equator</a>.\n</td></tr></tbody></table>\n"
                }
            ],
            "source": "# Let's print the third table and check its content\nfirst_launch_table = html_tables[2]\nprint(first_launch_table)"
        },
        {
            "cell_type": "markdown",
            "metadata": {},
            "source": "You should able to see the columns names embedded in the table header elements `<th>` as follows:\n"
        },
        {
            "cell_type": "markdown",
            "metadata": {},
            "source": "```\n<tr>\n<th scope=\"col\">Flight No.\n</th>\n<th scope=\"col\">Date and<br/>time (<a href=\"/wiki/Coordinated_Universal_Time\" title=\"Coordinated Universal Time\">UTC</a>)\n</th>\n<th scope=\"col\"><a href=\"/wiki/List_of_Falcon_9_first-stage_boosters\" title=\"List of Falcon 9 first-stage boosters\">Version,<br/>Booster</a> <sup class=\"reference\" id=\"cite_ref-booster_11-0\"><a href=\"#cite_note-booster-11\">[b]</a></sup>\n</th>\n<th scope=\"col\">Launch site\n</th>\n<th scope=\"col\">Payload<sup class=\"reference\" id=\"cite_ref-Dragon_12-0\"><a href=\"#cite_note-Dragon-12\">[c]</a></sup>\n</th>\n<th scope=\"col\">Payload mass\n</th>\n<th scope=\"col\">Orbit\n</th>\n<th scope=\"col\">Customer\n</th>\n<th scope=\"col\">Launch<br/>outcome\n</th>\n<th scope=\"col\"><a href=\"/wiki/Falcon_9_first-stage_landing_tests\" title=\"Falcon 9 first-stage landing tests\">Booster<br/>landing</a>\n</th></tr>\n```\n"
        },
        {
            "cell_type": "markdown",
            "metadata": {},
            "source": "Next, we just need to iterate through the `<th>` elements and apply the provided `extract_column_from_header()` to extract column name one by one\n"
        },
        {
            "cell_type": "code",
            "execution_count": 23,
            "metadata": {},
            "outputs": [
                {
                    "data": {
                        "text/plain": "['Flight No.',\n 'Date and time ( )',\n 'Launch site',\n 'Payload',\n 'Payload mass',\n 'Orbit',\n 'Customer',\n 'Launch outcome']"
                    },
                    "execution_count": 23,
                    "metadata": {},
                    "output_type": "execute_result"
                }
            ],
            "source": "column_names = []\n\n# Apply find_all() function with `th` element on first_launch_table\ntemp=first_launch_table.find_all(\"th\")\n# Iterate each th element and apply the provided extract_column_from_header() to get a column name\nfor item in temp:\n    name=extract_column_from_header(item)\n    if name is not None and len(name) > 0:\n        column_names.append(name)\n# Append the Non-empty column name (`if name is not None and len(name) > 0`) into a list called column_names\ncolumn_names"
        },
        {
            "cell_type": "markdown",
            "metadata": {},
            "source": "Check the extracted column names\n"
        },
        {
            "cell_type": "code",
            "execution_count": 24,
            "metadata": {},
            "outputs": [
                {
                    "name": "stdout",
                    "output_type": "stream",
                    "text": "['Flight No.', 'Date and time ( )', 'Launch site', 'Payload', 'Payload mass', 'Orbit', 'Customer', 'Launch outcome']\n"
                }
            ],
            "source": "print(column_names)"
        },
        {
            "cell_type": "markdown",
            "metadata": {},
            "source": "## TASK 3: Create a data frame by parsing the launch HTML tables\n"
        },
        {
            "cell_type": "markdown",
            "metadata": {},
            "source": "We will create an empty dictionary with keys from the extracted column names in the previous task. Later, this dictionary will be converted into a Pandas dataframe\n"
        },
        {
            "cell_type": "code",
            "execution_count": 30,
            "metadata": {},
            "outputs": [],
            "source": "launch_dict= dict.fromkeys(column_names)\n\n# Remove an irrelvant column\ndel launch_dict['Date and time ( )']\n\n# Let's initial the launch_dict with each value to be an empty list\nlaunch_dict['Flight No.'] = []\nlaunch_dict['Launch site'] = []\nlaunch_dict['Payload'] = []\nlaunch_dict['Payload mass'] = []\nlaunch_dict['Orbit'] = []\nlaunch_dict['Customer'] = []\nlaunch_dict['Launch outcome'] = []\n# Added some new columns\nlaunch_dict['Version Booster']=[]\nlaunch_dict['Booster landing']=[]\nlaunch_dict['Date']=[]\nlaunch_dict['Time']=[]"
        },
        {
            "cell_type": "markdown",
            "metadata": {},
            "source": "Next, we just need to fill up the `launch_dict` with launch records extracted from table rows.\n"
        },
        {
            "cell_type": "markdown",
            "metadata": {},
            "source": "Usually, HTML tables in Wiki pages are likely to contain unexpected annotations and other types of noises, such as reference links `B0004.1[8]`, missing values `N/A [e]`, inconsistent formatting, etc.\n"
        },
        {
            "cell_type": "markdown",
            "metadata": {},
            "source": "To simplify the parsing process, we have provided an incomplete code snippet below to help you to fill up the `launch_dict`. Please complete the following code snippet with TODOs or you can choose to write your own logic to parse all launch tables:\n"
        },
        {
            "cell_type": "code",
            "execution_count": 51,
            "metadata": {},
            "outputs": [
                {
                    "name": "stdout",
                    "output_type": "stream",
                    "text": "1\nSpaceX\n2\nNASA\n3\nNASA\n4\nNASA\n5\nNASA\n6\nMDA\n7\nSES\n8\nThaicom\n9\nNASA\n10\nOrbcomm\n11\nAsiaSat\n12\nAsiaSat\n13\nNASA\n14\nNASA\n15\nUSAF\n16\nABS\n17\nNASA\n18\nNone\n19\nNASA\n20\nOrbcomm\n21\nNASA\n22\nSES\n23\nNASA\n24\nSKY Perfect JSAT Group\n25\nThaicom\n26\nABS\n27\nNASA\n28\nSKY Perfect JSAT Group\n29\nIridium Communications\n30\nNASA\n31\nEchoStar\n32\nSES\n33\nNRO\n34\nInmarsat\n35\nNASA\n36\nBulsatcom\n37\nIridium Communications\n38\nIntelsat\n39\nNASA\n40\nNSPO\n41\nUSAF\n42\nIridium Communications\n43\nSES S.A.\n44\nKT Corporation\n45\nNASA\n46\nIridium Communications\n47\nNorthrop Grumman\n48\nSES\n49\nHisdesat\n50\nHispasat\n51\nIridium Communications\n52\nNASA\n53\nNASA\n54\nThales-Alenia\n55\nIridium Communications\n56\nSES\n57\nNASA\n58\nTelesat\n59\nIridium Communications\n60\nTelkom Indonesia\n61\nTelesat\n62\nCONAE\n63\nEs'hailSat\n64\nSpaceflight Industries\n65\nNASA\n66\nUSAF\n67\nIridium Communications\n68\nPSN\n69\nNASA\n70\nNASA\n71\nSpaceX\n72\nCanadian Space Agency\n73\nNASA\n74\nSpacecom\n75\nSpaceX\n76\nNASA\n77\nSky Perfect JSAT\n78\nSpaceX\n79\nNASA\n80\nSpaceX\n81\nSpaceX\n82\nNASA\n83\nSpaceX\n84\nSpaceX\n85\nNASA\n86\nSpaceX\n87\nSpaceX\n88\nU.S. Space Force\n89\nRepublic of Korea Army\n90\nSpaceX\n91\nSpaceX\n92\nCONAE\n93\nSpaceX\n94\nSpaceX\n95\nSpaceX\n96\nSpaceX\n97\nUSSF\n98\nNASA\n99\nNASA\n100\nSpaceX\n101\nNASA\n102\nSirius XM\n103\nNRO\n104\nT\u00fcrksat\n105\nSpaceX\n106\n"
                },
                {
                    "ename": "AttributeError",
                    "evalue": "'NoneType' object has no attribute 'string'",
                    "output_type": "error",
                    "traceback": [
                        "\u001b[0;31m---------------------------------------------------------------------------\u001b[0m",
                        "\u001b[0;31mAttributeError\u001b[0m                            Traceback (most recent call last)",
                        "Input \u001b[0;32mIn [51]\u001b[0m, in \u001b[0;36m<cell line: 3>\u001b[0;34m()\u001b[0m\n\u001b[1;32m     65\u001b[0m launch_dict[\u001b[38;5;124m'\u001b[39m\u001b[38;5;124mOrbit\u001b[39m\u001b[38;5;124m'\u001b[39m]\u001b[38;5;241m.\u001b[39mappend(orbit)\n\u001b[1;32m     66\u001b[0m \u001b[38;5;66;03m#print(orbit)\u001b[39;00m\n\u001b[1;32m     67\u001b[0m \n\u001b[1;32m     68\u001b[0m \u001b[38;5;66;03m# Customer\u001b[39;00m\n\u001b[1;32m     69\u001b[0m \u001b[38;5;66;03m# TODO: Append the customer into launch_dict with key `Customer`\u001b[39;00m\n\u001b[0;32m---> 70\u001b[0m customer \u001b[38;5;241m=\u001b[39m \u001b[43mrow\u001b[49m\u001b[43m[\u001b[49m\u001b[38;5;241;43m6\u001b[39;49m\u001b[43m]\u001b[49m\u001b[38;5;241;43m.\u001b[39;49m\u001b[43ma\u001b[49m\u001b[38;5;241;43m.\u001b[39;49m\u001b[43mstring\u001b[49m\n\u001b[1;32m     71\u001b[0m \u001b[38;5;66;03m#customer = row[6].text.strip()\u001b[39;00m\n\u001b[1;32m     72\u001b[0m launch_dict[\u001b[38;5;124m'\u001b[39m\u001b[38;5;124mCustomer\u001b[39m\u001b[38;5;124m'\u001b[39m]\u001b[38;5;241m.\u001b[39mappend(customer)\n",
                        "\u001b[0;31mAttributeError\u001b[0m: 'NoneType' object has no attribute 'string'"
                    ]
                }
            ],
            "source": "extracted_row = 0\n#Extract each table \nfor table_number,table in enumerate(soup.find_all('table',\"wikitable plainrowheaders collapsible\")):\n   # get table row \n    for rows in table.find_all(\"tr\"):\n        #check to see if first table heading is as number corresponding to launch a number \n        if rows.th:\n            if rows.th.string:\n                flight_number=rows.th.string.strip()\n                flag=flight_number.isdigit()\n        else:\n            flag=False\n        #get table element \n        row=rows.find_all('td')\n        #if it is number save cells in a dictonary \n        if flag:\n            extracted_row += 1\n            # Flight Number value\n            # TODO: Append the flight_number into launch_dict with key `Flight No.`\n            launch_dict['Flight No.'].append(flight_number)\n            print(flight_number)\n            datatimelist=date_time(row[0])\n            \n            # Date value\n            # TODO: Append the date into launch_dict with key `Date`\n            date = datatimelist[0].strip(',')\n            launch_dict['Date'].append(date)\n            #print(date)\n            \n            # Time value\n            # TODO: Append the time into launch_dict with key `Time`\n            time = datatimelist[1]\n            launch_dict['Time'].append(time)\n            #print(time)\n              \n            # Booster version\n            # TODO: Append the bv into launch_dict with key `Version Booster`\n            bv=booster_version(row[1])\n            if not(bv):\n                bv=row[1].a.string\n            launch_dict['Version Booster'].append(bv)\n            #print(bv)\n            \n            # Launch Site\n            # TODO: Append the bv into launch_dict with key `Launch Site`\n            launch_site = row[2].a.string\n            launch_dict['Launch site'].append(launch_site)\n            #print(launch_site)\n            \n            # Payload\n            # TODO: Append the payload into launch_dict with key `Payload`\n            payload = row[3].a.string\n            launch_dict['Payload'].append(payload)\n            #print(payload)\n            \n            # Payload Mass\n            # TODO: Append the payload_mass into launch_dict with key `Payload mass`\n            payload_mass = get_mass(row[4])\n            launch_dict['Payload mass'].append(payload_mass)\n            #print(payload)\n            \n            # Orbit\n            # TODO: Append the orbit into launch_dict with key `Orbit`\n            orbit = row[5].a.string\n            launch_dict['Orbit'].append(orbit)\n            #print(orbit)\n            \n            # Customer\n            # TODO: Append the customer into launch_dict with key `Customer`\n            customer = row[6].a.string\n            #customer = row[6].text.strip()\n            launch_dict['Customer'].append(customer)\n            print(customer)\n            \n            # Launch outcome\n            # TODO: Append the launch_outcome into launch_dict with key `Launch outcome`\n            launch_outcome = list(row[7].strings)[0]\n            launch_dict['Launch outcome'].append(launch_outcome)\n            #print(launch_outcome)\n            \n            # Booster landing\n            # TODO: Append the launch_outcome into launch_dict with key `Booster landing`\n            booster_landing = landing_status(row[8])\n            launch_dict['Booster landing'].append(booster_landing)\n            #print(booster_landing)\n            "
        },
        {
            "cell_type": "markdown",
            "metadata": {},
            "source": "After you have fill in the parsed launch record values into `launch_dict`, you can create a dataframe from it.\n"
        },
        {
            "cell_type": "code",
            "execution_count": 53,
            "metadata": {},
            "outputs": [
                {
                    "data": {
                        "text/html": "<div>\n<style scoped>\n    .dataframe tbody tr th:only-of-type {\n        vertical-align: middle;\n    }\n\n    .dataframe tbody tr th {\n        vertical-align: top;\n    }\n\n    .dataframe thead th {\n        text-align: right;\n    }\n</style>\n<table border=\"1\" class=\"dataframe\">\n  <thead>\n    <tr style=\"text-align: right;\">\n      <th></th>\n      <th>Flight No.</th>\n      <th>Launch site</th>\n      <th>Payload</th>\n      <th>Payload mass</th>\n      <th>Orbit</th>\n      <th>Customer</th>\n      <th>Launch outcome</th>\n      <th>Version Booster</th>\n      <th>Booster landing</th>\n      <th>Date</th>\n      <th>Time</th>\n    </tr>\n  </thead>\n  <tbody>\n    <tr>\n      <th>510</th>\n      <td>57</td>\n      <td>CCAFS</td>\n      <td>SpaceX CRS-15</td>\n      <td>2,697 kg</td>\n      <td>LEO</td>\n      <td>Iridium Communications</td>\n      <td>Success</td>\n      <td>F9 B4B1045.2</td>\n      <td>Success</td>\n      <td>29 June 2018</td>\n      <td>09:42</td>\n    </tr>\n    <tr>\n      <th>511</th>\n      <td>58</td>\n      <td>CCAFS</td>\n      <td>Telstar 19V</td>\n      <td>7,075 kg</td>\n      <td>GTO</td>\n      <td>Telkom Indonesia</td>\n      <td>Success</td>\n      <td>F9 B5</td>\n      <td>Success</td>\n      <td>22 July 2018</td>\n      <td>05:50</td>\n    </tr>\n    <tr>\n      <th>512</th>\n      <td>59</td>\n      <td>VAFB</td>\n      <td>Iridium NEXT</td>\n      <td>9,600 kg</td>\n      <td>Polar</td>\n      <td>Telesat</td>\n      <td>Success</td>\n      <td>F9 B5B1048</td>\n      <td>Success</td>\n      <td>25 July 2018</td>\n      <td>11:39</td>\n    </tr>\n    <tr>\n      <th>513</th>\n      <td>60</td>\n      <td>CCAFS</td>\n      <td>Merah Putih</td>\n      <td>5,800 kg</td>\n      <td>GTO</td>\n      <td>CONAE</td>\n      <td>Success</td>\n      <td>F9 B5B1046.2</td>\n      <td>Success</td>\n      <td>7 August 2018</td>\n      <td>05:18</td>\n    </tr>\n    <tr>\n      <th>514</th>\n      <td>61</td>\n      <td>CCAFS</td>\n      <td>Telstar 18V</td>\n      <td>7,060 kg</td>\n      <td>GTO</td>\n      <td>Es'hailSat</td>\n      <td>Success</td>\n      <td>F9 B5</td>\n      <td>Success</td>\n      <td>10 September 2018</td>\n      <td>04:45</td>\n    </tr>\n    <tr>\n      <th>515</th>\n      <td>62</td>\n      <td>VAFB</td>\n      <td>SAOCOM 1A</td>\n      <td>3,000 kg</td>\n      <td>SSO</td>\n      <td>Spaceflight Industries</td>\n      <td>Success</td>\n      <td>F9 B5B1048.2</td>\n      <td>Success</td>\n      <td>8 October 2018</td>\n      <td>02:22</td>\n    </tr>\n    <tr>\n      <th>516</th>\n      <td>63</td>\n      <td>KSC</td>\n      <td>Es'hail 2</td>\n      <td>5,300 kg</td>\n      <td>GTO</td>\n      <td>NASA</td>\n      <td>Success\\n</td>\n      <td>F9 B5B1047.2</td>\n      <td>Failure</td>\n      <td>15 November 2018</td>\n      <td>20:46</td>\n    </tr>\n    <tr>\n      <th>517</th>\n      <td>64</td>\n      <td>VAFB</td>\n      <td>SSO-A</td>\n      <td>~4,000 kg</td>\n      <td>SSO</td>\n      <td>USAF</td>\n      <td>Success</td>\n      <td>F9 B5B1046.3</td>\n      <td>No attempt</td>\n      <td>3 December 2018</td>\n      <td>18:34:05</td>\n    </tr>\n    <tr>\n      <th>518</th>\n      <td>65</td>\n      <td>CCAFS</td>\n      <td>SpaceX CRS-16</td>\n      <td>2,500 kg</td>\n      <td>LEO</td>\n      <td>Iridium Communications</td>\n      <td>Success\\n</td>\n      <td>F9 B5</td>\n      <td>Success</td>\n      <td>5 December 2018</td>\n      <td>18:16</td>\n    </tr>\n    <tr>\n      <th>519</th>\n      <td>66</td>\n      <td>CCAFS</td>\n      <td>GPS III</td>\n      <td>4,400 kg</td>\n      <td>MEO</td>\n      <td>PSN</td>\n      <td>Success\\n</td>\n      <td>F9 B5</td>\n      <td>Success</td>\n      <td>23 December 2018</td>\n      <td>13:51</td>\n    </tr>\n    <tr>\n      <th>520</th>\n      <td>67</td>\n      <td>VAFB</td>\n      <td>Iridium NEXT</td>\n      <td>9,600 kg</td>\n      <td>Polar</td>\n      <td>NASA</td>\n      <td>Success\\n</td>\n      <td>F9 B5B1049.2</td>\n      <td>Success</td>\n      <td>11 January 2019</td>\n      <td>15:31</td>\n    </tr>\n    <tr>\n      <th>521</th>\n      <td>68</td>\n      <td>CCAFS</td>\n      <td>Nusantara Satu</td>\n      <td>4,850 kg</td>\n      <td>GTO</td>\n      <td>NASA</td>\n      <td>Success\\n</td>\n      <td>F9 B5B1048.3</td>\n      <td>Success</td>\n      <td>22 February 2019</td>\n      <td>01:45</td>\n    </tr>\n    <tr>\n      <th>522</th>\n      <td>69</td>\n      <td>KSC</td>\n      <td>Crew Dragon Demo-1</td>\n      <td>12,055 kg</td>\n      <td>LEO</td>\n      <td>SpaceX</td>\n      <td>Success\\n</td>\n      <td>F9 B5[268]</td>\n      <td>Success</td>\n      <td>2 March 2019</td>\n      <td>07:49</td>\n    </tr>\n    <tr>\n      <th>523</th>\n      <td>70</td>\n      <td>CCAFS</td>\n      <td>SpaceX CRS-17</td>\n      <td>2,495 kg</td>\n      <td>LEO</td>\n      <td>Canadian Space Agency</td>\n      <td>Success\\n</td>\n      <td>F9 B5</td>\n      <td>Success</td>\n      <td>4 May 2019</td>\n      <td>06:48</td>\n    </tr>\n    <tr>\n      <th>524</th>\n      <td>71</td>\n      <td>CCAFS</td>\n      <td>Starlink</td>\n      <td>13,620 kg</td>\n      <td>LEO</td>\n      <td>NASA</td>\n      <td>Success\\n</td>\n      <td>F9 B5B1049.3</td>\n      <td>Success</td>\n      <td>24 May 2019</td>\n      <td>02:30</td>\n    </tr>\n    <tr>\n      <th>525</th>\n      <td>72</td>\n      <td>VAFB</td>\n      <td>RADARSAT Constellation</td>\n      <td>4,200 kg</td>\n      <td>SSO</td>\n      <td>Spacecom</td>\n      <td>Success\\n</td>\n      <td>F9 B5B1051.2</td>\n      <td>No attempt</td>\n      <td>12 June 2019</td>\n      <td>14:17</td>\n    </tr>\n    <tr>\n      <th>526</th>\n      <td>73</td>\n      <td>CCAFS</td>\n      <td>SpaceX CRS-18</td>\n      <td>2,268 kg</td>\n      <td>LEO</td>\n      <td>SpaceX</td>\n      <td>Success\\n</td>\n      <td>F9 B5B1056.2</td>\n      <td>Success</td>\n      <td>25 July 2019</td>\n      <td>22:01</td>\n    </tr>\n    <tr>\n      <th>527</th>\n      <td>74</td>\n      <td>CCAFS</td>\n      <td>AMOS-17</td>\n      <td>6,500 kg</td>\n      <td>GTO</td>\n      <td>NASA</td>\n      <td>Success\\n</td>\n      <td>F9 B5B1047.3</td>\n      <td>Success</td>\n      <td>6 August 2019</td>\n      <td>23:23</td>\n    </tr>\n    <tr>\n      <th>528</th>\n      <td>75</td>\n      <td>CCAFS</td>\n      <td>Starlink</td>\n      <td>15,600 kg</td>\n      <td>LEO</td>\n      <td>Sky Perfect JSAT</td>\n      <td>Success\\n</td>\n      <td>F9 B5</td>\n      <td>Success</td>\n      <td>11 November 2019</td>\n      <td>14:56</td>\n    </tr>\n    <tr>\n      <th>529</th>\n      <td>76</td>\n      <td>CCAFS</td>\n      <td>SpaceX CRS-19</td>\n      <td>2,617 kg</td>\n      <td>LEO</td>\n      <td>SpaceX</td>\n      <td>Success\\n</td>\n      <td>F9 B5</td>\n      <td>Success</td>\n      <td>5 December 2019</td>\n      <td>17:29</td>\n    </tr>\n    <tr>\n      <th>530</th>\n      <td>77</td>\n      <td>CCAFS</td>\n      <td>JCSat-18</td>\n      <td>6,956 kg</td>\n      <td>GTO</td>\n      <td>NASA</td>\n      <td>Success\\n</td>\n      <td>F9 B5B1056.3</td>\n      <td>No attempt\\n</td>\n      <td>17 December 2019</td>\n      <td>00:10</td>\n    </tr>\n    <tr>\n      <th>531</th>\n      <td>78</td>\n      <td>CCAFS</td>\n      <td>Starlink</td>\n      <td>15,600 kg</td>\n      <td>LEO</td>\n      <td>SpaceX</td>\n      <td>Success\\n</td>\n      <td>F9 B5</td>\n      <td>Success</td>\n      <td>7 January 2020</td>\n      <td>02:19:21</td>\n    </tr>\n    <tr>\n      <th>532</th>\n      <td>79</td>\n      <td>KSC</td>\n      <td>Crew Dragon in-flight abort test</td>\n      <td>12,050 kg</td>\n      <td>Sub-orbital</td>\n      <td>SpaceX</td>\n      <td>Success\\n</td>\n      <td>F9 B5</td>\n      <td>Failure</td>\n      <td>19 January 2020</td>\n      <td>15:30</td>\n    </tr>\n    <tr>\n      <th>533</th>\n      <td>80</td>\n      <td>CCAFS</td>\n      <td>Starlink</td>\n      <td>15,600 kg</td>\n      <td>LEO</td>\n      <td>NASA</td>\n      <td>Success\\n</td>\n      <td>F9 B5</td>\n      <td>Success</td>\n      <td>29 January 2020</td>\n      <td>14:07</td>\n    </tr>\n    <tr>\n      <th>534</th>\n      <td>81</td>\n      <td>CCAFS</td>\n      <td>Starlink</td>\n      <td>15,600 kg</td>\n      <td>LEO</td>\n      <td>SpaceX</td>\n      <td>Success\\n</td>\n      <td>F9 B5</td>\n      <td>Failure</td>\n      <td>17 February 2020</td>\n      <td>15:05</td>\n    </tr>\n    <tr>\n      <th>535</th>\n      <td>82</td>\n      <td>CCAFS</td>\n      <td>SpaceX CRS-20</td>\n      <td>1,977 kg</td>\n      <td>LEO</td>\n      <td>SpaceX</td>\n      <td>Success\\n</td>\n      <td>F9 B5</td>\n      <td>Success</td>\n      <td>7 March 2020</td>\n      <td>04:50</td>\n    </tr>\n    <tr>\n      <th>536</th>\n      <td>83</td>\n      <td>KSC</td>\n      <td>Starlink</td>\n      <td>15,600 kg</td>\n      <td>LEO</td>\n      <td>NASA</td>\n      <td>Success\\n</td>\n      <td>F9 B5</td>\n      <td>Success</td>\n      <td>18 March 2020</td>\n      <td>12:16</td>\n    </tr>\n    <tr>\n      <th>537</th>\n      <td>84</td>\n      <td>KSC</td>\n      <td>Starlink</td>\n      <td>15,600 kg</td>\n      <td>LEO</td>\n      <td>SpaceX</td>\n      <td>Success\\n</td>\n      <td>F9 B5</td>\n      <td>Success</td>\n      <td>22 April 2020</td>\n      <td>19:30</td>\n    </tr>\n    <tr>\n      <th>538</th>\n      <td>85</td>\n      <td>KSC</td>\n      <td>Crew Dragon Demo-2</td>\n      <td>12,530 kg</td>\n      <td>LEO</td>\n      <td>SpaceX</td>\n      <td>Success\\n</td>\n      <td>F9 B5</td>\n      <td>Success</td>\n      <td>30 May 2020</td>\n      <td>19:22</td>\n    </tr>\n    <tr>\n      <th>539</th>\n      <td>86</td>\n      <td>CCAFS</td>\n      <td>Starlink</td>\n      <td>15,600 kg</td>\n      <td>LEO</td>\n      <td>U.S. Space Force</td>\n      <td>Success\\n</td>\n      <td>F9 B5</td>\n      <td>Success</td>\n      <td>4 June 2020</td>\n      <td>01:25</td>\n    </tr>\n    <tr>\n      <th>540</th>\n      <td>87</td>\n      <td>CCAFS</td>\n      <td>Starlink</td>\n      <td>15,410 kg</td>\n      <td>LEO</td>\n      <td>Republic of Korea Army</td>\n      <td>Success\\n</td>\n      <td>F9 B5</td>\n      <td>Success</td>\n      <td>13 June 2020</td>\n      <td>09:21</td>\n    </tr>\n    <tr>\n      <th>541</th>\n      <td>88</td>\n      <td>CCAFS</td>\n      <td>GPS III</td>\n      <td>4,311 kg</td>\n      <td>MEO</td>\n      <td>SpaceX</td>\n      <td>Success\\n</td>\n      <td>F9 B5</td>\n      <td>Success</td>\n      <td>30 June 2020</td>\n      <td>20:10:46</td>\n    </tr>\n    <tr>\n      <th>542</th>\n      <td>89</td>\n      <td>CCAFS</td>\n      <td>ANASIS-II</td>\n      <td>5,000\u20136,000 kg</td>\n      <td>GTO</td>\n      <td>SpaceX</td>\n      <td>Success\\n</td>\n      <td>F9 B5B1058.2</td>\n      <td>Success</td>\n      <td>20 July 2020</td>\n      <td>21:30</td>\n    </tr>\n    <tr>\n      <th>543</th>\n      <td>90</td>\n      <td>KSC</td>\n      <td>Starlink</td>\n      <td>14,932 kg</td>\n      <td>LEO</td>\n      <td>CONAE</td>\n      <td>Success\\n</td>\n      <td>F9 B5</td>\n      <td>Success</td>\n      <td>7 August 2020</td>\n      <td>05:12</td>\n    </tr>\n    <tr>\n      <th>544</th>\n      <td>91</td>\n      <td>CCAFS</td>\n      <td>Starlink</td>\n      <td>~15,440 kg</td>\n      <td>LEO</td>\n      <td>SpaceX</td>\n      <td>Success\\n</td>\n      <td>F9 B5B1049.6</td>\n      <td>Success</td>\n      <td>18 August 2020</td>\n      <td>14:31</td>\n    </tr>\n    <tr>\n      <th>545</th>\n      <td>92</td>\n      <td>CCAFS</td>\n      <td>SAOCOM 1B</td>\n      <td>3,130 kg</td>\n      <td>SSO</td>\n      <td>SpaceX</td>\n      <td>Success\\n</td>\n      <td>F9 B5</td>\n      <td>Success</td>\n      <td>30 August 2020</td>\n      <td>23:18</td>\n    </tr>\n    <tr>\n      <th>546</th>\n      <td>93</td>\n      <td>KSC</td>\n      <td>Starlink</td>\n      <td>15,600 kg</td>\n      <td>LEO</td>\n      <td>SpaceX</td>\n      <td>Success\\n</td>\n      <td>F9 B5B1060.2</td>\n      <td>Success</td>\n      <td>3 September 2020</td>\n      <td>12:46:14</td>\n    </tr>\n    <tr>\n      <th>547</th>\n      <td>94</td>\n      <td>KSC</td>\n      <td>Starlink</td>\n      <td>15,600 kg</td>\n      <td>LEO</td>\n      <td>SpaceX</td>\n      <td>Success\\n</td>\n      <td>F9 B5B1058.3</td>\n      <td>Success</td>\n      <td>6 October 2020</td>\n      <td>11:29:34</td>\n    </tr>\n    <tr>\n      <th>548</th>\n      <td>95</td>\n      <td>KSC</td>\n      <td>Starlink</td>\n      <td>15,600 kg</td>\n      <td>LEO</td>\n      <td>USSF</td>\n      <td>Success\\n</td>\n      <td>F9 B5B1051.6</td>\n      <td>Success</td>\n      <td>18 October 2020</td>\n      <td>12:25:57</td>\n    </tr>\n    <tr>\n      <th>549</th>\n      <td>96</td>\n      <td>CCAFS</td>\n      <td>Starlink</td>\n      <td>15,600 kg</td>\n      <td>LEO</td>\n      <td>NASA</td>\n      <td>Success\\n</td>\n      <td>F9 B5</td>\n      <td>Success</td>\n      <td>24 October 2020</td>\n      <td>15:31:34</td>\n    </tr>\n    <tr>\n      <th>550</th>\n      <td>97</td>\n      <td>CCAFS</td>\n      <td>GPS III</td>\n      <td>4,311 kg</td>\n      <td>MEO</td>\n      <td>NASA</td>\n      <td>Success\\n</td>\n      <td>F9 B5</td>\n      <td>Success</td>\n      <td>5 November 2020</td>\n      <td>23:24:23</td>\n    </tr>\n    <tr>\n      <th>551</th>\n      <td>98</td>\n      <td>KSC</td>\n      <td>Crew-1</td>\n      <td>~12,500 kg</td>\n      <td>LEO</td>\n      <td>SpaceX</td>\n      <td>Success\\n</td>\n      <td>F9 B5</td>\n      <td>Success</td>\n      <td>16 November 2020</td>\n      <td>00:27</td>\n    </tr>\n    <tr>\n      <th>552</th>\n      <td>99</td>\n      <td>VAFB</td>\n      <td>Sentinel-6 Michael Freilich (Jason-CS A)</td>\n      <td>1,192 kg</td>\n      <td>LEO</td>\n      <td>NASA</td>\n      <td>Success\\n</td>\n      <td>F9 B5</td>\n      <td>Success</td>\n      <td>21 November 2020</td>\n      <td>17:17:08</td>\n    </tr>\n    <tr>\n      <th>553</th>\n      <td>100</td>\n      <td>CCAFS</td>\n      <td>Starlink</td>\n      <td>15,600 kg</td>\n      <td>LEO</td>\n      <td>Sirius XM</td>\n      <td>Success\\n</td>\n      <td>F9 B5 \u267a</td>\n      <td>Success</td>\n      <td>25 November 2020</td>\n      <td>02:13</td>\n    </tr>\n    <tr>\n      <th>554</th>\n      <td>101</td>\n      <td>KSC</td>\n      <td>SpaceX CRS-21</td>\n      <td>2,972 kg</td>\n      <td>LEO</td>\n      <td>NRO</td>\n      <td>Success\\n</td>\n      <td>F9 B5 \u267a</td>\n      <td>Success</td>\n      <td>6 December 2020</td>\n      <td>16:17:08</td>\n    </tr>\n    <tr>\n      <th>555</th>\n      <td>102</td>\n      <td>CCSFS</td>\n      <td>SXM-7</td>\n      <td>7,000 kg</td>\n      <td>GTO</td>\n      <td>T\u00fcrksat</td>\n      <td>Success\\n</td>\n      <td>F9 B5 \u267a</td>\n      <td>Success</td>\n      <td>13 December 2020</td>\n      <td>17:30:00</td>\n    </tr>\n    <tr>\n      <th>556</th>\n      <td>103</td>\n      <td>KSC</td>\n      <td>NROL-108</td>\n      <td>C</td>\n      <td>LEO</td>\n      <td>SpaceX</td>\n      <td>Success\\n</td>\n      <td>F9 B5 \u267a</td>\n      <td>Success</td>\n      <td>19 December 2020</td>\n      <td>14:00:00</td>\n    </tr>\n    <tr>\n      <th>557</th>\n      <td>104</td>\n      <td>CCSFS</td>\n      <td>T\u00fcrksat 5A</td>\n      <td>3,500 kg</td>\n      <td>GTO</td>\n      <td>NaN</td>\n      <td>NaN</td>\n      <td>F9 B5</td>\n      <td>NaN</td>\n      <td>8 January 2021</td>\n      <td>02:15</td>\n    </tr>\n    <tr>\n      <th>558</th>\n      <td>105</td>\n      <td>KSC</td>\n      <td>Starlink</td>\n      <td>15,600 kg</td>\n      <td>LEO</td>\n      <td>NaN</td>\n      <td>NaN</td>\n      <td>F9 B5B1051.8</td>\n      <td>NaN</td>\n      <td>20 January 2021</td>\n      <td>13:02</td>\n    </tr>\n    <tr>\n      <th>559</th>\n      <td>106</td>\n      <td>CCSFS</td>\n      <td>Transporter-1</td>\n      <td>~5,000 kg</td>\n      <td>SSO</td>\n      <td>NaN</td>\n      <td>NaN</td>\n      <td>F9 B5B1058.5</td>\n      <td>NaN</td>\n      <td>24 January 2021</td>\n      <td>15:00</td>\n    </tr>\n  </tbody>\n</table>\n</div>",
                        "text/plain": "    Flight No. Launch site                                   Payload  \\\n510         57       CCAFS                             SpaceX CRS-15   \n511         58       CCAFS                               Telstar 19V   \n512         59        VAFB                              Iridium NEXT   \n513         60       CCAFS                               Merah Putih   \n514         61       CCAFS                               Telstar 18V   \n515         62        VAFB                                 SAOCOM 1A   \n516         63         KSC                                 Es'hail 2   \n517         64        VAFB                                     SSO-A   \n518         65       CCAFS                             SpaceX CRS-16   \n519         66       CCAFS                                   GPS III   \n520         67        VAFB                              Iridium NEXT   \n521         68       CCAFS                            Nusantara Satu   \n522         69         KSC                        Crew Dragon Demo-1   \n523         70       CCAFS                             SpaceX CRS-17   \n524         71       CCAFS                                  Starlink   \n525         72        VAFB                    RADARSAT Constellation   \n526         73       CCAFS                             SpaceX CRS-18   \n527         74       CCAFS                                   AMOS-17   \n528         75       CCAFS                                  Starlink   \n529         76       CCAFS                             SpaceX CRS-19   \n530         77       CCAFS                                  JCSat-18   \n531         78       CCAFS                                  Starlink   \n532         79         KSC          Crew Dragon in-flight abort test   \n533         80       CCAFS                                  Starlink   \n534         81       CCAFS                                  Starlink   \n535         82       CCAFS                             SpaceX CRS-20   \n536         83         KSC                                  Starlink   \n537         84         KSC                                  Starlink   \n538         85         KSC                        Crew Dragon Demo-2   \n539         86       CCAFS                                  Starlink   \n540         87       CCAFS                                  Starlink   \n541         88       CCAFS                                   GPS III   \n542         89       CCAFS                                 ANASIS-II   \n543         90         KSC                                  Starlink   \n544         91       CCAFS                                  Starlink   \n545         92       CCAFS                                 SAOCOM 1B   \n546         93         KSC                                  Starlink   \n547         94         KSC                                  Starlink   \n548         95         KSC                                  Starlink   \n549         96       CCAFS                                  Starlink   \n550         97       CCAFS                                   GPS III   \n551         98         KSC                                    Crew-1   \n552         99        VAFB  Sentinel-6 Michael Freilich (Jason-CS A)   \n553        100       CCAFS                                  Starlink   \n554        101         KSC                             SpaceX CRS-21   \n555        102       CCSFS                                     SXM-7   \n556        103         KSC                                  NROL-108   \n557        104       CCSFS                                T\u00fcrksat 5A   \n558        105         KSC                                  Starlink   \n559        106       CCSFS                             Transporter-1   \n\n       Payload mass        Orbit                Customer Launch outcome  \\\n510        2,697 kg          LEO  Iridium Communications        Success   \n511        7,075 kg          GTO        Telkom Indonesia        Success   \n512        9,600 kg        Polar                 Telesat        Success   \n513        5,800 kg          GTO                   CONAE        Success   \n514        7,060 kg          GTO              Es'hailSat        Success   \n515        3,000 kg          SSO  Spaceflight Industries        Success   \n516        5,300 kg          GTO                    NASA      Success\\n   \n517       ~4,000 kg          SSO                    USAF        Success   \n518        2,500 kg          LEO  Iridium Communications      Success\\n   \n519        4,400 kg          MEO                     PSN      Success\\n   \n520        9,600 kg        Polar                    NASA      Success\\n   \n521        4,850 kg          GTO                    NASA      Success\\n   \n522       12,055 kg          LEO                  SpaceX      Success\\n   \n523        2,495 kg          LEO   Canadian Space Agency      Success\\n   \n524       13,620 kg          LEO                    NASA      Success\\n   \n525        4,200 kg          SSO                Spacecom      Success\\n   \n526        2,268 kg          LEO                  SpaceX      Success\\n   \n527        6,500 kg          GTO                    NASA      Success\\n   \n528       15,600 kg          LEO        Sky Perfect JSAT      Success\\n   \n529        2,617 kg          LEO                  SpaceX      Success\\n   \n530        6,956 kg          GTO                    NASA      Success\\n   \n531       15,600 kg          LEO                  SpaceX      Success\\n   \n532       12,050 kg  Sub-orbital                  SpaceX      Success\\n   \n533       15,600 kg          LEO                    NASA      Success\\n   \n534       15,600 kg          LEO                  SpaceX      Success\\n   \n535        1,977 kg          LEO                  SpaceX      Success\\n   \n536       15,600 kg          LEO                    NASA      Success\\n   \n537       15,600 kg          LEO                  SpaceX      Success\\n   \n538       12,530 kg          LEO                  SpaceX      Success\\n   \n539       15,600 kg          LEO        U.S. Space Force      Success\\n   \n540       15,410 kg          LEO  Republic of Korea Army      Success\\n   \n541        4,311 kg          MEO                  SpaceX      Success\\n   \n542  5,000\u20136,000 kg          GTO                  SpaceX      Success\\n   \n543       14,932 kg          LEO                   CONAE      Success\\n   \n544      ~15,440 kg          LEO                  SpaceX      Success\\n   \n545        3,130 kg          SSO                  SpaceX      Success\\n   \n546       15,600 kg          LEO                  SpaceX      Success\\n   \n547       15,600 kg          LEO                  SpaceX      Success\\n   \n548       15,600 kg          LEO                    USSF      Success\\n   \n549       15,600 kg          LEO                    NASA      Success\\n   \n550        4,311 kg          MEO                    NASA      Success\\n   \n551      ~12,500 kg          LEO                  SpaceX      Success\\n   \n552        1,192 kg          LEO                    NASA      Success\\n   \n553       15,600 kg          LEO               Sirius XM      Success\\n   \n554        2,972 kg          LEO                     NRO      Success\\n   \n555        7,000 kg          GTO                 T\u00fcrksat      Success\\n   \n556               C          LEO                  SpaceX      Success\\n   \n557        3,500 kg          GTO                     NaN            NaN   \n558       15,600 kg          LEO                     NaN            NaN   \n559       ~5,000 kg          SSO                     NaN            NaN   \n\n    Version Booster Booster landing               Date      Time  \n510    F9 B4B1045.2         Success       29 June 2018     09:42  \n511           F9 B5         Success       22 July 2018     05:50  \n512      F9 B5B1048         Success       25 July 2018     11:39  \n513    F9 B5B1046.2         Success      7 August 2018     05:18  \n514           F9 B5         Success  10 September 2018     04:45  \n515    F9 B5B1048.2         Success     8 October 2018     02:22  \n516    F9 B5B1047.2         Failure   15 November 2018     20:46  \n517    F9 B5B1046.3      No attempt    3 December 2018  18:34:05  \n518           F9 B5         Success    5 December 2018     18:16  \n519           F9 B5         Success   23 December 2018     13:51  \n520    F9 B5B1049.2         Success    11 January 2019     15:31  \n521    F9 B5B1048.3         Success   22 February 2019     01:45  \n522      F9 B5[268]         Success       2 March 2019     07:49  \n523           F9 B5         Success         4 May 2019     06:48  \n524    F9 B5B1049.3         Success        24 May 2019     02:30  \n525    F9 B5B1051.2      No attempt       12 June 2019     14:17  \n526    F9 B5B1056.2         Success       25 July 2019     22:01  \n527    F9 B5B1047.3         Success      6 August 2019     23:23  \n528           F9 B5         Success   11 November 2019     14:56  \n529           F9 B5         Success    5 December 2019     17:29  \n530    F9 B5B1056.3    No attempt\\n   17 December 2019     00:10  \n531           F9 B5         Success     7 January 2020  02:19:21  \n532           F9 B5         Failure    19 January 2020     15:30  \n533           F9 B5         Success    29 January 2020     14:07  \n534           F9 B5         Failure   17 February 2020     15:05  \n535           F9 B5         Success       7 March 2020     04:50  \n536           F9 B5         Success      18 March 2020     12:16  \n537           F9 B5         Success      22 April 2020     19:30  \n538           F9 B5         Success        30 May 2020     19:22  \n539           F9 B5         Success        4 June 2020     01:25  \n540           F9 B5         Success       13 June 2020     09:21  \n541           F9 B5         Success       30 June 2020  20:10:46  \n542    F9 B5B1058.2         Success       20 July 2020     21:30  \n543           F9 B5         Success      7 August 2020     05:12  \n544    F9 B5B1049.6         Success     18 August 2020     14:31  \n545           F9 B5         Success     30 August 2020     23:18  \n546    F9 B5B1060.2         Success   3 September 2020  12:46:14  \n547    F9 B5B1058.3         Success     6 October 2020  11:29:34  \n548    F9 B5B1051.6         Success    18 October 2020  12:25:57  \n549           F9 B5         Success    24 October 2020  15:31:34  \n550           F9 B5         Success    5 November 2020  23:24:23  \n551           F9 B5         Success   16 November 2020     00:27  \n552           F9 B5         Success   21 November 2020  17:17:08  \n553         F9 B5 \u267a         Success   25 November 2020     02:13  \n554         F9 B5 \u267a         Success    6 December 2020  16:17:08  \n555         F9 B5 \u267a         Success   13 December 2020  17:30:00  \n556         F9 B5 \u267a         Success   19 December 2020  14:00:00  \n557           F9 B5             NaN     8 January 2021     02:15  \n558    F9 B5B1051.8             NaN    20 January 2021     13:02  \n559    F9 B5B1058.5             NaN    24 January 2021     15:00  "
                    },
                    "execution_count": 53,
                    "metadata": {},
                    "output_type": "execute_result"
                }
            ],
            "source": "#print(len(launch_dict['Customer']))\n#print(len(launch_dict['Booster landing']))\n#print(len(launch_dict['Launch outcome']))\n#print(len(launch_dict['Orbit']))\n#print(len(launch_dict['Flight No.']))\n#print(len(launch_dict['Date']))\n#print(len(launch_dict['Time']))\n#print(len(launch_dict['Version Booster']))\n#print(len(launch_dict['Launch site']))\n#print(len(launch_dict['Payload']))\n#print(len(launch_dict['Payload mass']))\n\n\n\n#df=pd.DataFrame(launch_dict)\ndf= pd.DataFrame({ key:pd.Series(value) for key, value in launch_dict.items() })\ndf.tail(50)"
        },
        {
            "cell_type": "markdown",
            "metadata": {},
            "source": "We can now export it to a <b>CSV</b> for the next section, but to make the answers consistent and in case you have difficulties finishing this lab.\n\nFollowing labs will be using a provided dataset to make each lab independent.\n"
        },
        {
            "cell_type": "code",
            "execution_count": 54,
            "metadata": {},
            "outputs": [],
            "source": "df.to_csv('spacex_web_scraped.csv', index=False)\n"
        },
        {
            "cell_type": "markdown",
            "metadata": {},
            "source": "## Authors\n"
        },
        {
            "cell_type": "markdown",
            "metadata": {},
            "source": "<a href=\"https://www.linkedin.com/in/yan-luo-96288783/?utm_medium=Exinfluencer&utm_source=Exinfluencer&utm_content=000026UJ&utm_term=10006555&utm_id=NA-SkillsNetwork-Channel-SkillsNetworkCoursesIBMDS0321ENSkillsNetwork26802033-2022-01-01\">Yan Luo</a>\n"
        },
        {
            "cell_type": "markdown",
            "metadata": {},
            "source": "<a href=\"https://www.linkedin.com/in/nayefaboutayoun/?utm_medium=Exinfluencer&utm_source=Exinfluencer&utm_content=000026UJ&utm_term=10006555&utm_id=NA-SkillsNetwork-Channel-SkillsNetworkCoursesIBMDS0321ENSkillsNetwork26802033-2022-01-01\">Nayef Abou Tayoun</a>\n"
        },
        {
            "cell_type": "markdown",
            "metadata": {},
            "source": "## Change Log\n"
        },
        {
            "cell_type": "markdown",
            "metadata": {},
            "source": "| Date (YYYY-MM-DD) | Version | Changed By | Change Description          |\n| ----------------- | ------- | ---------- | --------------------------- |\n| 2021-06-09        | 1.0     | Yan Luo    | Tasks updates               |\n| 2020-11-10        | 1.0     | Nayef      | Created the initial version |\n"
        },
        {
            "cell_type": "markdown",
            "metadata": {},
            "source": "Copyright \u00a9 2021 IBM Corporation. All rights reserved.\n"
        }
    ],
    "metadata": {
        "kernelspec": {
            "display_name": "Python 3.10",
            "language": "python",
            "name": "python3"
        },
        "language_info": {
            "codemirror_mode": {
                "name": "ipython",
                "version": 3
            },
            "file_extension": ".py",
            "mimetype": "text/x-python",
            "name": "python",
            "nbconvert_exporter": "python",
            "pygments_lexer": "ipython3",
            "version": "3.10.6"
        }
    },
    "nbformat": 4,
    "nbformat_minor": 4
}